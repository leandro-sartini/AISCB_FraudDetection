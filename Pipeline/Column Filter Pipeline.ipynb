{
 "cells": [
  {
   "cell_type": "code",
   "execution_count": 14,
   "id": "1a87caab",
   "metadata": {},
   "outputs": [],
   "source": [
    "import pandas as pd\n",
    "import os\n",
    "\n",
    "def column_filter(df):\n",
    "    \n",
    "    parquet_path = '../../data/interim/fraud_detection.parquet'\n",
    "    csv_path = 'fraud_detection.csv'\n",
    "\n",
    "    os.makedirs(os.path.dirname(parquet_path), exist_ok=True)\n",
    "\n",
    "    df.to_parquet(parquet_path)\n",
    "\n",
    "    df.to_csv(csv_path, index=False)\n",
    "\n",
    "def main():\n",
    "    column_filter(df)\n",
    "\n",
    "if __name__ == \"__main__\":\n",
    "    main()"
   ]
  },
  {
   "cell_type": "code",
   "execution_count": null,
   "id": "e7bba196",
   "metadata": {},
   "outputs": [],
   "source": []
  }
 ],
 "metadata": {
  "kernelspec": {
   "display_name": "Python 3 (ipykernel)",
   "language": "python",
   "name": "python3"
  },
  "language_info": {
   "codemirror_mode": {
    "name": "ipython",
    "version": 3
   },
   "file_extension": ".py",
   "mimetype": "text/x-python",
   "name": "python",
   "nbconvert_exporter": "python",
   "pygments_lexer": "ipython3",
   "version": "3.11.5"
  }
 },
 "nbformat": 4,
 "nbformat_minor": 5
}

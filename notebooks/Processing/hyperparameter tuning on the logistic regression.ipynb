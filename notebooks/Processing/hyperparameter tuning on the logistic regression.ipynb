{
 "cells": [
  {
   "cell_type": "code",
   "execution_count": 51,
   "id": "3aec47ba",
   "metadata": {},
   "outputs": [],
   "source": [
    "import pandas as pd\n",
    "import numpy as np\n",
    "import matplotlib.pyplot as plt\n",
    "import seaborn as sns\n",
    "from xgboost import XGBClassifier\n",
    "from sklearn.model_selection import train_test_split,GridSearchCV,RandomizedSearchCV\n",
    "from lightgbm import LGBMClassifier\n",
    "from sklearn.linear_model import LogisticRegression, RidgeClassifier #,Ridge,Lasso,ElasticNet\n",
    "from sklearn.metrics import accuracy_score,recall_score,precision_score,roc_auc_score,f1_score,confusion_matrix\n",
    "#from sklearn.model_selection import train_test_split,cross_val_score,KFold,RandomizedSearchCV\n",
    "from sklearn.preprocessing import OneHotEncoder,StandardScaler\n",
    "from imblearn.over_sampling import ADASYN\n",
    "from imblearn.under_sampling import NearMiss\n",
    "from sklearn.datasets import make_classification\n",
    "from sklearn.pipeline import make_pipeline\n",
    "import numpy as np\n",
    "import pyreadstat\n",
    "from collections import Counter\n"
   ]
  },
  {
   "cell_type": "code",
   "execution_count": 52,
   "id": "1d8fb7ed",
   "metadata": {},
   "outputs": [],
   "source": [
    "from sklearn.ensemble import RandomForestClassifier\n",
    "from sklearn.datasets import make_classification\n",
    "from sklearn.model_selection import train_test_split\n",
    "from sklearn.metrics import accuracy_score\n",
    "import lime\n",
    "import lime.lime_tabular\n",
    "import lime.lime_tabular"
   ]
  },
  {
   "cell_type": "code",
   "execution_count": 53,
   "id": "f5e8224b",
   "metadata": {},
   "outputs": [],
   "source": [
    "df = pd.read_csv(r\"C:\\Users\\vishnu\\Downloads\\loan_fraud.csv\")"
   ]
  },
  {
   "cell_type": "code",
   "execution_count": 54,
   "id": "fccc8658",
   "metadata": {},
   "outputs": [
    {
     "data": {
      "text/plain": [
       "(284807, 31)"
      ]
     },
     "execution_count": 54,
     "metadata": {},
     "output_type": "execute_result"
    }
   ],
   "source": [
    "df.shape"
   ]
  },
  {
   "cell_type": "code",
   "execution_count": 55,
   "id": "50cc74ee",
   "metadata": {},
   "outputs": [],
   "source": [
    "X_col = df.drop(columns = 'Class')\n",
    "y_col = df['Class']"
   ]
  },
  {
   "cell_type": "code",
   "execution_count": 56,
   "id": "7deccb53",
   "metadata": {},
   "outputs": [],
   "source": [
    "X_train, X_test, y_train, y_test = train_test_split(X_col, y_col, test_size=0.20, random_state=42)"
   ]
  },
  {
   "cell_type": "code",
   "execution_count": 57,
   "id": "dbc6b274",
   "metadata": {},
   "outputs": [],
   "source": [
    "def oversample_with_adasyn(X, y, target_minority_samples=180000):\n",
    "    \"\"\"\n",
    "    Oversample the minority class using ADASYN until the minority class reaches the target_minority_samples.\n",
    "    \n",
    "    Parameters:\n",
    "    - X: Feature matrix\n",
    "    - y: Target vector\n",
    "    - target_minority_samples: Desired number of samples for the minority class after oversampling\n",
    "    \n",
    "    Returns:\n",
    "    - X_resampled, y_resampled: Feature matrix and target vector after resampling\n",
    "    \"\"\"\n",
    "    # Identify minority class\n",
    "    classes, counts = np.unique(y, return_counts=True)\n",
    "    minority_class = classes[np.argmin(counts)]\n",
    "    current_minority_samples = counts[np.argmin(counts)]\n",
    "\n",
    "    # Calculate how many new samples we need to generate for the minority class\n",
    "    if current_minority_samples >= target_minority_samples:\n",
    "        raise ValueError(\"The minority class already has more or equal samples than the target_minority_samples.\")\n",
    "    \n",
    "    n_samples_to_generate = target_minority_samples - current_minority_samples\n",
    "\n",
    "    # Set the sampling strategy for ADASYN\n",
    "    # This will tell ADASYN to generate the specified number of samples for the minority class\n",
    "    sampling_strategy = {minority_class: n_samples_to_generate}\n",
    "\n",
    "    # Create the ADASYN instance and fit it to the data\n",
    "    adasyn = ADASYN(sampling_strategy=sampling_strategy, n_neighbors=5, random_state=42)\n",
    "    X_resampled, y_resampled = adasyn.fit_resample(X, y)\n",
    "\n",
    "    return X_resampled, y_resampled"
   ]
  },
  {
   "cell_type": "code",
   "execution_count": 58,
   "id": "f975de8d",
   "metadata": {},
   "outputs": [],
   "source": [
    "def undersample_with_nearmiss(X, y):\n",
    "    \"\"\"\n",
    "    Undersample the majority class using NearMiss until it is balanced with the minority class.\n",
    "    \n",
    "    Parameters:\n",
    "    - X: Feature matrix\n",
    "    - y: Target vector\n",
    "    \n",
    "    Returns:\n",
    "    - X_resampled, y_resampled: Feature matrix and target vector after resampling\n",
    "    \"\"\"\n",
    "    # Identify majority and minority classes\n",
    "    classes, counts = np.unique(y, return_counts=True)\n",
    "    minority_class_count = min(counts)\n",
    "    \n",
    "    # Set the sampling strategy for NearMiss\n",
    "    # This will balance the majority class with the minority class\n",
    "    nm = NearMiss()\n",
    "    \n",
    "    # Perform the undersampling\n",
    "    X_resampled, y_resampled = nm.fit_resample(X, y)\n",
    "    \n",
    "    # Check if undersampling was successful\n",
    "    if len(np.unique(y_resampled, return_counts=True)[1]) != 2 or np.unique(y_resampled, return_counts=True)[1][0] != minority_class_count:\n",
    "        raise ValueError(\"NearMiss did not undersample correctly.\")\n",
    "    \n",
    "    return X_resampled, y_resampled"
   ]
  },
  {
   "cell_type": "code",
   "execution_count": 59,
   "id": "9f97a128",
   "metadata": {},
   "outputs": [],
   "source": [
    "X_resampled,y_resampled = oversample_with_adasyn(X_train,y_train)"
   ]
  },
  {
   "cell_type": "code",
   "execution_count": 60,
   "id": "60b9ced4",
   "metadata": {},
   "outputs": [],
   "source": [
    "X_train,y_train = undersample_with_nearmiss(X_resampled,y_resampled)"
   ]
  },
  {
   "cell_type": "code",
   "execution_count": 61,
   "id": "9709bb0e",
   "metadata": {},
   "outputs": [
    {
     "data": {
      "text/plain": [
       "Class\n",
       "0    179696\n",
       "1    179696\n",
       "Name: count, dtype: int64"
      ]
     },
     "execution_count": 61,
     "metadata": {},
     "output_type": "execute_result"
    }
   ],
   "source": [
    "\n",
    "y_train.value_counts()"
   ]
  },
  {
   "cell_type": "code",
   "execution_count": 62,
   "id": "b3161292",
   "metadata": {},
   "outputs": [],
   "source": [
    "scaler = StandardScaler()"
   ]
  },
  {
   "cell_type": "code",
   "execution_count": 63,
   "id": "280a930b",
   "metadata": {},
   "outputs": [
    {
     "data": {
      "text/html": [
       "<style>#sk-container-id-2 {color: black;}#sk-container-id-2 pre{padding: 0;}#sk-container-id-2 div.sk-toggleable {background-color: white;}#sk-container-id-2 label.sk-toggleable__label {cursor: pointer;display: block;width: 100%;margin-bottom: 0;padding: 0.3em;box-sizing: border-box;text-align: center;}#sk-container-id-2 label.sk-toggleable__label-arrow:before {content: \"▸\";float: left;margin-right: 0.25em;color: #696969;}#sk-container-id-2 label.sk-toggleable__label-arrow:hover:before {color: black;}#sk-container-id-2 div.sk-estimator:hover label.sk-toggleable__label-arrow:before {color: black;}#sk-container-id-2 div.sk-toggleable__content {max-height: 0;max-width: 0;overflow: hidden;text-align: left;background-color: #f0f8ff;}#sk-container-id-2 div.sk-toggleable__content pre {margin: 0.2em;color: black;border-radius: 0.25em;background-color: #f0f8ff;}#sk-container-id-2 input.sk-toggleable__control:checked~div.sk-toggleable__content {max-height: 200px;max-width: 100%;overflow: auto;}#sk-container-id-2 input.sk-toggleable__control:checked~label.sk-toggleable__label-arrow:before {content: \"▾\";}#sk-container-id-2 div.sk-estimator input.sk-toggleable__control:checked~label.sk-toggleable__label {background-color: #d4ebff;}#sk-container-id-2 div.sk-label input.sk-toggleable__control:checked~label.sk-toggleable__label {background-color: #d4ebff;}#sk-container-id-2 input.sk-hidden--visually {border: 0;clip: rect(1px 1px 1px 1px);clip: rect(1px, 1px, 1px, 1px);height: 1px;margin: -1px;overflow: hidden;padding: 0;position: absolute;width: 1px;}#sk-container-id-2 div.sk-estimator {font-family: monospace;background-color: #f0f8ff;border: 1px dotted black;border-radius: 0.25em;box-sizing: border-box;margin-bottom: 0.5em;}#sk-container-id-2 div.sk-estimator:hover {background-color: #d4ebff;}#sk-container-id-2 div.sk-parallel-item::after {content: \"\";width: 100%;border-bottom: 1px solid gray;flex-grow: 1;}#sk-container-id-2 div.sk-label:hover label.sk-toggleable__label {background-color: #d4ebff;}#sk-container-id-2 div.sk-serial::before {content: \"\";position: absolute;border-left: 1px solid gray;box-sizing: border-box;top: 0;bottom: 0;left: 50%;z-index: 0;}#sk-container-id-2 div.sk-serial {display: flex;flex-direction: column;align-items: center;background-color: white;padding-right: 0.2em;padding-left: 0.2em;position: relative;}#sk-container-id-2 div.sk-item {position: relative;z-index: 1;}#sk-container-id-2 div.sk-parallel {display: flex;align-items: stretch;justify-content: center;background-color: white;position: relative;}#sk-container-id-2 div.sk-item::before, #sk-container-id-2 div.sk-parallel-item::before {content: \"\";position: absolute;border-left: 1px solid gray;box-sizing: border-box;top: 0;bottom: 0;left: 50%;z-index: -1;}#sk-container-id-2 div.sk-parallel-item {display: flex;flex-direction: column;z-index: 1;position: relative;background-color: white;}#sk-container-id-2 div.sk-parallel-item:first-child::after {align-self: flex-end;width: 50%;}#sk-container-id-2 div.sk-parallel-item:last-child::after {align-self: flex-start;width: 50%;}#sk-container-id-2 div.sk-parallel-item:only-child::after {width: 0;}#sk-container-id-2 div.sk-dashed-wrapped {border: 1px dashed gray;margin: 0 0.4em 0.5em 0.4em;box-sizing: border-box;padding-bottom: 0.4em;background-color: white;}#sk-container-id-2 div.sk-label label {font-family: monospace;font-weight: bold;display: inline-block;line-height: 1.2em;}#sk-container-id-2 div.sk-label-container {text-align: center;}#sk-container-id-2 div.sk-container {/* jupyter's `normalize.less` sets `[hidden] { display: none; }` but bootstrap.min.css set `[hidden] { display: none !important; }` so we also need the `!important` here to be able to override the default hidden behavior on the sphinx rendered scikit-learn.org. See: https://github.com/scikit-learn/scikit-learn/issues/21755 */display: inline-block !important;position: relative;}#sk-container-id-2 div.sk-text-repr-fallback {display: none;}</style><div id=\"sk-container-id-2\" class=\"sk-top-container\"><div class=\"sk-text-repr-fallback\"><pre>StandardScaler()</pre><b>In a Jupyter environment, please rerun this cell to show the HTML representation or trust the notebook. <br />On GitHub, the HTML representation is unable to render, please try loading this page with nbviewer.org.</b></div><div class=\"sk-container\" hidden><div class=\"sk-item\"><div class=\"sk-estimator sk-toggleable\"><input class=\"sk-toggleable__control sk-hidden--visually\" id=\"sk-estimator-id-2\" type=\"checkbox\" checked><label for=\"sk-estimator-id-2\" class=\"sk-toggleable__label sk-toggleable__label-arrow\">StandardScaler</label><div class=\"sk-toggleable__content\"><pre>StandardScaler()</pre></div></div></div></div></div>"
      ],
      "text/plain": [
       "StandardScaler()"
      ]
     },
     "execution_count": 63,
     "metadata": {},
     "output_type": "execute_result"
    }
   ],
   "source": [
    "\n",
    "scaler.fit(X_train)"
   ]
  },
  {
   "cell_type": "code",
   "execution_count": 64,
   "id": "a15cc3d4",
   "metadata": {},
   "outputs": [],
   "source": [
    "X_train_scaled = scaler.transform(X_train)\n",
    "X_train = pd.DataFrame(X_train_scaled, index=X_train.index, columns=X_train.columns)"
   ]
  },
  {
   "cell_type": "code",
   "execution_count": 65,
   "id": "b087d042",
   "metadata": {},
   "outputs": [],
   "source": [
    "X_test_scaled = scaler.transform(X_test)\n",
    "X_test = pd.DataFrame(X_test_scaled, index=X_test.index, columns=X_test.columns)"
   ]
  },
  {
   "cell_type": "markdown",
   "id": "c62b4930",
   "metadata": {},
   "source": [
    "logistic regression model building"
   ]
  },
  {
   "cell_type": "code",
   "execution_count": 67,
   "id": "f7179de8",
   "metadata": {},
   "outputs": [
    {
     "name": "stdout",
     "output_type": "stream",
     "text": [
      "Accuracy of training is 0.9803306695752827\n",
      "Precision of training is 0.9914144030789727\n",
      "Recall of training is 0.9690532900008904\n",
      "F1 of training is 0.9801063210061377\n",
      "ROC AUC of training is 0.9803306695752827\n",
      "\n",
      "Accuracy of test is 0.9755275446789088\n",
      "Precision of test is 0.061569688768606225\n",
      "Recall of test is 0.9285714285714286\n",
      "F1 of test is 0.11548223350253807\n",
      "ROC AUC of test is 0.9520899489508803\n"
     ]
    }
   ],
   "source": [
    "logr = LogisticRegression(max_iter = 10000)\n",
    "\n",
    "#Fitting Linear Regression\n",
    "logr.fit(X_train,y_train)\n",
    "\n",
    "#Printing errors\n",
    "print('Accuracy of training is '+ str(accuracy_score(y_train,logr.predict(X_train))))\n",
    "print('Precision of training is '+ str(precision_score(y_train,logr.predict(X_train))))\n",
    "print('Recall of training is '+ str(recall_score(y_train,logr.predict(X_train))))\n",
    "print('F1 of training is '+ str(f1_score(y_train,logr.predict(X_train))))\n",
    "print('ROC AUC of training is '+ str(roc_auc_score(y_train,logr.predict(X_train))))\n",
    "print()\n",
    "print('Accuracy of test is '+ str(accuracy_score(y_test,logr.predict(X_test))))\n",
    "print('Precision of test is '+ str(precision_score(y_test,logr.predict(X_test))))\n",
    "print('Recall of test is '+ str(recall_score(y_test,logr.predict(X_test))))\n",
    "print('F1 of test is '+ str(f1_score(y_test,logr.predict(X_test))))\n",
    "print('ROC AUC of test is '+ str(roc_auc_score(y_test,logr.predict(X_test))))"
   ]
  },
  {
   "cell_type": "markdown",
   "id": "74704b65",
   "metadata": {},
   "source": [
    "logistic regression with hyperparameter tuning  and randomsearch wirg cv 10"
   ]
  },
  {
   "cell_type": "code",
   "execution_count": 69,
   "id": "f287b31c",
   "metadata": {},
   "outputs": [
    {
     "name": "stderr",
     "output_type": "stream",
     "text": [
      "E:\\New folder\\anaconda\\Lib\\site-packages\\sklearn\\model_selection\\_search.py:307: UserWarning: The total space of parameters 8 is smaller than n_iter=10. Running 8 iterations. For exhaustive searches, use GridSearchCV.\n",
      "  warnings.warn(\n",
      "E:\\New folder\\anaconda\\Lib\\site-packages\\sklearn\\model_selection\\_validation.py:425: FitFailedWarning: \n",
      "40 fits failed out of a total of 80.\n",
      "The score on these train-test partitions for these parameters will be set to nan.\n",
      "If these failures are not expected, you can try to debug them by setting error_score='raise'.\n",
      "\n",
      "Below are more details about the failures:\n",
      "--------------------------------------------------------------------------------\n",
      "40 fits failed with the following error:\n",
      "Traceback (most recent call last):\n",
      "  File \"E:\\New folder\\anaconda\\Lib\\site-packages\\sklearn\\model_selection\\_validation.py\", line 732, in _fit_and_score\n",
      "    estimator.fit(X_train, y_train, **fit_params)\n",
      "  File \"E:\\New folder\\anaconda\\Lib\\site-packages\\sklearn\\base.py\", line 1151, in wrapper\n",
      "    return fit_method(estimator, *args, **kwargs)\n",
      "           ^^^^^^^^^^^^^^^^^^^^^^^^^^^^^^^^^^^^^^\n",
      "  File \"E:\\New folder\\anaconda\\Lib\\site-packages\\sklearn\\pipeline.py\", line 420, in fit\n",
      "    self._final_estimator.fit(Xt, y, **fit_params_last_step)\n",
      "  File \"E:\\New folder\\anaconda\\Lib\\site-packages\\sklearn\\base.py\", line 1151, in wrapper\n",
      "    return fit_method(estimator, *args, **kwargs)\n",
      "           ^^^^^^^^^^^^^^^^^^^^^^^^^^^^^^^^^^^^^^\n",
      "  File \"E:\\New folder\\anaconda\\Lib\\site-packages\\sklearn\\linear_model\\_logistic.py\", line 1168, in fit\n",
      "    solver = _check_solver(self.solver, self.penalty, self.dual)\n",
      "             ^^^^^^^^^^^^^^^^^^^^^^^^^^^^^^^^^^^^^^^^^^^^^^^^^^^\n",
      "  File \"E:\\New folder\\anaconda\\Lib\\site-packages\\sklearn\\linear_model\\_logistic.py\", line 56, in _check_solver\n",
      "    raise ValueError(\n",
      "ValueError: Solver lbfgs supports only 'l2' or 'none' penalties, got l1 penalty.\n",
      "\n",
      "  warnings.warn(some_fits_failed_message, FitFailedWarning)\n",
      "E:\\New folder\\anaconda\\Lib\\site-packages\\sklearn\\model_selection\\_search.py:976: UserWarning: One or more of the test scores are non-finite: [       nan 0.95805676        nan 0.96440081        nan 0.9667214\n",
      "        nan 0.96719442]\n",
      "  warnings.warn(\n"
     ]
    },
    {
     "name": "stdout",
     "output_type": "stream",
     "text": [
      "Accuracy of training is 0.9805393553557119\n",
      "Precision of training is 0.9914404416367879\n",
      "Recall of training is 0.9694484017451697\n",
      "F1 of training is 0.9803210975616619\n",
      "ROC AUC of training is 0.9805393553557119\n",
      "\n",
      "Accuracy of test is 0.9758435448193532\n",
      "Precision of test is 0.06232876712328767\n",
      "Recall of test is 0.9285714285714286\n",
      "F1 of test is 0.11681643132220795\n",
      "ROC AUC of test is 0.9522482213200418\n"
     ]
    }
   ],
   "source": [
    "logr = LogisticRegression(solver='lbfgs',max_iter=10000)\n",
    "\n",
    "#Define grid of hyperparameters\n",
    "parameter = {'logisticregression__C':[0.01,0.1,1,10],'logisticregression__penalty':['l1','l2']}\n",
    "\n",
    "pipeline = make_pipeline(StandardScaler(),logr)\n",
    "\n",
    "random_search = RandomizedSearchCV(estimator=pipeline,param_distributions=parameter,cv=10,scoring='recall',n_jobs=-1,n_iter=10,random_state=42)\n",
    "\n",
    "#subset = len(X_train) // 10\n",
    "#Fitting Linear Regression\n",
    "random_search.fit(X_train,y_train)\n",
    "\n",
    "check_params = random_search.best_params_\n",
    "check_model = random_search.best_estimator_\n",
    "\n",
    "#Predicting the test data\n",
    "y_train_predict = check_model.predict(X_train)\n",
    "y_predict = check_model.predict(X_test)\n",
    "\n",
    "\n",
    "#Printing errors\n",
    "print('Accuracy of training is '+ str(accuracy_score(y_train,y_train_predict)))\n",
    "print('Precision of training is '+ str(precision_score(y_train,y_train_predict)))\n",
    "print('Recall of training is '+ str(recall_score(y_train,y_train_predict)))\n",
    "print('F1 of training is '+ str(f1_score(y_train,y_train_predict)))\n",
    "print('ROC AUC of training is '+ str(roc_auc_score(y_train,y_train_predict)))\n",
    "print()\n",
    "print('Accuracy of test is '+ str(accuracy_score(y_test,y_predict)))\n",
    "print('Precision of test is '+ str(precision_score(y_test,y_predict)))\n",
    "print('Recall of test is '+ str(recall_score(y_test,y_predict)))\n",
    "print('F1 of test is '+ str(f1_score(y_test,y_predict)))\n",
    "print('ROC AUC of test is '+ str(roc_auc_score(y_test,y_predict)))"
   ]
  },
  {
   "cell_type": "code",
   "execution_count": null,
   "id": "cfc53c2b",
   "metadata": {},
   "outputs": [],
   "source": []
  },
  {
   "cell_type": "code",
   "execution_count": 71,
   "id": "af73552e",
   "metadata": {},
   "outputs": [
    {
     "data": {
      "image/png": "[encoded data removed]",
      "text/plain": [
       "<Figure size 600x500 with 2 Axes>"
      ]
     },
     "metadata": {},
     "output_type": "display_data"
    }
   ],
   "source": [
    "Confusion_matrix_test = confusion_matrix(y_test,y_predict)\n",
    "\n",
    "#plotting the confusion matrix for the test set prediction\n",
    "plt.figure(figsize=(6,5))\n",
    "sns.heatmap(Confusion_matrix_test,annot=True,fmt='g',cmap='Blues',cbar=True)\n",
    "plt.title('Confusion matrix for test set prediction')\n",
    "plt.xlabel('Predicted labels')\n",
    "plt.ylabel('Actual labels')\n",
    "plt.show()"
   ]
  },
  {
   "cell_type": "code",
   "execution_count": 72,
   "id": "9760ac45",
   "metadata": {},
   "outputs": [
    {
     "name": "stdout",
     "output_type": "stream",
     "text": [
      "Accuracy of training is 0.9995687160537797\n",
      "Precision of training is 0.9992769784372724\n",
      "Recall of training is 0.9998608761463805\n",
      "F1 of training is 0.9995688420209348\n",
      "ROC AUC of training is 0.9995687160537797\n",
      "\n",
      "Accuracy of test is 0.9974193321863699\n",
      "Precision of test is 0.3881278538812785\n",
      "Recall of test is 0.8673469387755102\n",
      "F1 of test is 0.5362776025236593\n",
      "ROC AUC of test is 0.9324952195284416\n"
     ]
    }
   ],
   "source": [
    "# Starting XGBoost\n",
    "logr = XGBClassifier(n_estimators = 1000,learning_rate = 0.01,eval_metric='aucpr')\n",
    "\n",
    "#Fitting\n",
    "logr.fit(X_train,y_train)\n",
    "\n",
    "#Printing errors\n",
    "print('Accuracy of training is '+ str(accuracy_score(y_train,logr.predict(X_train))))\n",
    "print('Precision of training is '+ str(precision_score(y_train,logr.predict(X_train))))\n",
    "print('Recall of training is '+ str(recall_score(y_train,logr.predict(X_train))))\n",
    "print('F1 of training is '+ str(f1_score(y_train,logr.predict(X_train))))\n",
    "print('ROC AUC of training is '+ str(roc_auc_score(y_train,logr.predict(X_train))))\n",
    "print()\n",
    "print('Accuracy of test is '+ str(accuracy_score(y_test,logr.predict(X_test))))\n",
    "print('Precision of test is '+ str(precision_score(y_test,logr.predict(X_test))))\n",
    "print('Recall of test is '+ str(recall_score(y_test,logr.predict(X_test))))\n",
    "print('F1 of test is '+ str(f1_score(y_test,logr.predict(X_test))))\n",
    "print('ROC AUC of test is '+ str(roc_auc_score(y_test,logr.predict(X_test))))"
   ]
  },
  {
   "cell_type": "code",
   "execution_count": 73,
   "id": "4df07050",
   "metadata": {},
   "outputs": [
    {
     "name": "stdout",
     "output_type": "stream",
     "text": [
      "[LightGBM] [Info] Number of positive: 179696, number of negative: 179696\n",
      "[LightGBM] [Info] Auto-choosing col-wise multi-threading, the overhead of testing was 0.027959 seconds.\n",
      "You can set `force_col_wise=true` to remove the overhead.\n",
      "[LightGBM] [Info] Total Bins 7650\n",
      "[LightGBM] [Info] Number of data points in the train set: 359392, number of used features: 30\n",
      "[LightGBM] [Info] [binary:BoostFromScore]: pavg=0.500000 -> initscore=0.000000\n",
      "Accuracy of training is 0.9997774018342089\n",
      "Precision of training is 0.9995827909615834\n",
      "Recall of training is 0.9999721752292761\n",
      "F1 of training is 0.9997774451819663\n",
      "ROC AUC of training is 0.9997774018342088\n",
      "\n",
      "Accuracy of test is 0.9984199992977775\n",
      "Precision of test is 0.524390243902439\n",
      "Recall of test is 0.8775510204081632\n",
      "F1 of test is 0.6564885496183207\n",
      "ROC AUC of test is 0.9380896632710484\n"
     ]
    }
   ],
   "source": [
    "logr = LGBMClassifier(n_estimators = 1000,learning_rate = 0.01)\n",
    "\n",
    "#Fitting\n",
    "logr.fit(X_train,y_train)\n",
    "\n",
    "#Printing errors\n",
    "print('Accuracy of training is '+ str(accuracy_score(y_train,logr.predict(X_train))))\n",
    "print('Precision of training is '+ str(precision_score(y_train,logr.predict(X_train))))\n",
    "print('Recall of training is '+ str(recall_score(y_train,logr.predict(X_train))))\n",
    "print('F1 of training is '+ str(f1_score(y_train,logr.predict(X_train))))\n",
    "print('ROC AUC of training is '+ str(roc_auc_score(y_train,logr.predict(X_train))))\n",
    "print()\n",
    "print('Accuracy of test is '+ str(accuracy_score(y_test,logr.predict(X_test))))\n",
    "print('Precision of test is '+ str(precision_score(y_test,logr.predict(X_test))))\n",
    "print('Recall of test is '+ str(recall_score(y_test,logr.predict(X_test))))\n",
    "print('F1 of test is '+ str(f1_score(y_test,logr.predict(X_test))))\n",
    "print('ROC AUC of test is '+ str(roc_auc_score(y_test,logr.predict(X_test))))"
   ]
  },
  {
   "cell_type": "code",
   "execution_count": null,
   "id": "de6206b8",
   "metadata": {},
   "outputs": [],
   "source": []
  }
 ],
 "metadata": {
  "kernelspec": {
   "display_name": "Python 3 (ipykernel)",
   "language": "python",
   "name": "python3"
  },
  "language_info": {
   "codemirror_mode": {
    "name": "ipython",
    "version": 3
   },
   "file_extension": ".py",
   "mimetype": "text/x-python",
   "name": "python",
   "nbconvert_exporter": "python",
   "pygments_lexer": "ipython3",
   "version": "3.11.5"
  }
 },
 "nbformat": 4,
 "nbformat_minor": 5
}

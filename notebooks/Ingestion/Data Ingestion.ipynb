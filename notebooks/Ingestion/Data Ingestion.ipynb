{
 "cells": [
  {
   "cell_type": "code",
   "execution_count": 2,
   "id": "87ee30a0",
   "metadata": {
    "scrolled": true
   },
   "outputs": [
    {
     "name": "stdout",
     "output_type": "stream",
     "text": [
      "Downloading credit-card.zip to C:\\Users\\leand\\OneDrive\\Área de Trabalho\\AISCB_FraudDetection\\notebooks\n",
      "\n"
     ]
    },
    {
     "name": "stderr",
     "output_type": "stream",
     "text": [
      "\n",
      "  0%|          | 0.00/112M [00:00<?, ?B/s]\n",
      "  1%|          | 1.00M/112M [00:00<00:16, 6.91MB/s]\n",
      "  3%|2         | 3.00M/112M [00:00<00:11, 10.0MB/s]\n",
      "  4%|4         | 5.00M/112M [00:00<00:10, 11.2MB/s]\n",
      "  6%|6         | 7.00M/112M [00:00<00:09, 11.7MB/s]\n",
      "  8%|8         | 9.00M/112M [00:00<00:09, 12.0MB/s]\n",
      " 10%|9         | 11.0M/112M [00:00<00:08, 12.2MB/s]\n",
      " 12%|#1        | 13.0M/112M [00:01<00:08, 12.2MB/s]\n",
      " 13%|#3        | 15.0M/112M [00:01<00:08, 11.9MB/s]\n",
      " 15%|#5        | 17.0M/112M [00:01<00:07, 12.5MB/s]\n",
      " 17%|#6        | 19.0M/112M [00:01<00:07, 12.5MB/s]\n",
      " 19%|#8        | 21.0M/112M [00:01<00:07, 12.5MB/s]\n",
      " 20%|##        | 23.0M/112M [00:02<00:07, 12.5MB/s]\n",
      " 22%|##2       | 25.0M/112M [00:02<00:07, 12.5MB/s]\n",
      " 24%|##4       | 27.0M/112M [00:02<00:07, 12.5MB/s]\n",
      " 26%|##5       | 29.0M/112M [00:02<00:07, 12.5MB/s]\n",
      " 28%|##7       | 31.0M/112M [00:02<00:06, 12.5MB/s]\n",
      " 29%|##9       | 33.0M/112M [00:02<00:06, 12.5MB/s]\n",
      " 31%|###1      | 35.0M/112M [00:03<00:06, 12.5MB/s]\n",
      " 33%|###2      | 37.0M/112M [00:03<00:06, 12.5MB/s]\n",
      " 35%|###4      | 39.0M/112M [00:03<00:06, 12.5MB/s]\n",
      " 36%|###6      | 41.0M/112M [00:03<00:06, 11.4MB/s]\n",
      " 38%|###8      | 43.0M/112M [00:03<00:06, 11.6MB/s]\n",
      " 40%|####      | 45.0M/112M [00:03<00:05, 11.9MB/s]\n",
      " 42%|####1     | 47.0M/112M [00:04<00:05, 12.1MB/s]\n",
      " 44%|####3     | 49.0M/112M [00:04<00:05, 12.2MB/s]\n",
      " 45%|####5     | 51.0M/112M [00:04<00:05, 12.3MB/s]\n",
      " 47%|####7     | 53.0M/112M [00:04<00:05, 12.2MB/s]\n",
      " 49%|####8     | 55.0M/112M [00:04<00:04, 12.3MB/s]\n",
      " 51%|#####     | 57.0M/112M [00:04<00:04, 12.3MB/s]\n",
      " 53%|#####2    | 59.0M/112M [00:05<00:04, 12.2MB/s]\n",
      " 54%|#####4    | 61.0M/112M [00:05<00:05, 9.75MB/s]\n",
      " 56%|#####6    | 63.0M/112M [00:05<00:04, 10.4MB/s]\n",
      " 58%|#####7    | 65.0M/112M [00:05<00:04, 10.9MB/s]\n",
      " 60%|#####9    | 67.0M/112M [00:05<00:04, 11.3MB/s]\n",
      " 61%|######1   | 69.0M/112M [00:06<00:03, 11.6MB/s]\n",
      " 63%|######3   | 71.0M/112M [00:06<00:03, 11.8MB/s]\n",
      " 65%|######4   | 73.0M/112M [00:06<00:03, 11.9MB/s]\n",
      " 67%|######6   | 75.0M/112M [00:06<00:03, 12.0MB/s]\n",
      " 69%|######8   | 77.0M/112M [00:06<00:03, 11.5MB/s]\n",
      " 70%|#######   | 79.0M/112M [00:06<00:03, 11.5MB/s]\n",
      " 72%|#######2  | 81.0M/112M [00:07<00:02, 11.7MB/s]\n",
      " 74%|#######3  | 83.0M/112M [00:07<00:02, 11.9MB/s]\n",
      " 76%|#######5  | 85.0M/112M [00:07<00:02, 12.0MB/s]\n",
      " 77%|#######7  | 87.0M/112M [00:07<00:02, 12.1MB/s]\n",
      " 79%|#######9  | 89.0M/112M [00:07<00:02, 12.1MB/s]\n",
      " 81%|########  | 91.0M/112M [00:08<00:01, 12.2MB/s]\n",
      " 83%|########2 | 93.0M/112M [00:08<00:01, 12.2MB/s]\n",
      " 85%|########4 | 95.0M/112M [00:08<00:01, 12.3MB/s]\n",
      " 86%|########6 | 97.0M/112M [00:08<00:01, 12.3MB/s]\n",
      " 88%|########8 | 99.0M/112M [00:08<00:01, 12.3MB/s]\n",
      " 90%|########9 | 101M/112M [00:08<00:00, 12.3MB/s] \n",
      " 92%|#########1| 103M/112M [00:09<00:00, 11.8MB/s]\n",
      " 93%|#########3| 105M/112M [00:09<00:00, 12.0MB/s]\n",
      " 95%|#########5| 107M/112M [00:09<00:00, 12.1MB/s]\n",
      " 97%|#########7| 109M/112M [00:09<00:00, 12.2MB/s]\n",
      " 99%|#########8| 111M/112M [00:09<00:00, 12.3MB/s]\n",
      "100%|##########| 112M/112M [00:09<00:00, 12.3MB/s]\n",
      "100%|##########| 112M/112M [00:09<00:00, 12.0MB/s]\n"
     ]
    }
   ],
   "source": [
    "!kaggle datasets download -d mishra5001/credit-card"
   ]
  },
  {
   "cell_type": "code",
   "execution_count": 4,
   "id": "c2048c97",
   "metadata": {},
   "outputs": [],
   "source": [
    "import zipfile\n",
    "import os"
   ]
  },
  {
   "cell_type": "code",
   "execution_count": 5,
   "id": "41e3a441",
   "metadata": {},
   "outputs": [],
   "source": [
    "zip_path = 'credit-card.zip'\n",
    "extract_to = '../../data/raw' \n",
    "\n",
    "# Create a directory if it does not exist\n",
    "os.makedirs(extract_to, exist_ok=True)\n",
    "\n",
    "with zipfile.ZipFile(zip_path, 'r') as zip_ref:\n",
    "    zip_ref.extractall(extract_to)"
   ]
  },
  {
   "cell_type": "code",
   "execution_count": 6,
   "id": "8bddf0dd",
   "metadata": {},
   "outputs": [
    {
     "name": "stdout",
     "output_type": "stream",
     "text": [
      "The file credit-card.zip has been deleted.\n"
     ]
    }
   ],
   "source": [
    "zip_file_path = 'credit-card.zip'\n",
    "\n",
    "# Check if the file exists before attempting to delete it\n",
    "if os.path.exists(zip_file_path):\n",
    "    os.remove(zip_file_path)\n",
    "    print(f\"The file {zip_file_path} has been deleted.\")\n",
    "else:\n",
    "    print(f\"The file {zip_file_path} does not exist.\")"
   ]
  }
 ],
 "metadata": {
  "kernelspec": {
   "display_name": "Python 3 (ipykernel)",
   "language": "python",
   "name": "python3"
  },
  "language_info": {
   "codemirror_mode": {
    "name": "ipython",
    "version": 3
   },
   "file_extension": ".py",
   "mimetype": "text/x-python",
   "name": "python",
   "nbconvert_exporter": "python",
   "pygments_lexer": "ipython3",
   "version": "3.11.5"
  }
 },
 "nbformat": 4,
 "nbformat_minor": 5
}

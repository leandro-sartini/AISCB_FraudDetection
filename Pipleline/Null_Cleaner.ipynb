{
 "cells": [
  {
   "cell_type": "code",
   "execution_count": null,
   "id": "9e7cbade",
   "metadata": {},
   "outputs": [],
   "source": [
    "import warnings \n",
    "warnings.filterwarnings(\"ignore\")"
   ]
  },
  {
   "cell_type": "code",
   "execution_count": 3,
   "id": "020815bd",
   "metadata": {},
   "outputs": [
    {
     "name": "stdout",
     "output_type": "stream",
     "text": [
      "C:\\Users\\gurba\n"
     ]
    }
   ],
   "source": [
    "cd"
   ]
  },
  {
   "cell_type": "code",
   "execution_count": 11,
   "id": "9d8db557",
   "metadata": {},
   "outputs": [],
   "source": [
    "import pandas as pd\n",
    "df = pd.read_csv('fraud_detection.csv')\n",
    "def null():\n",
    "    \n",
    "    \n",
    "    df = pd.read_csv('fraud_detection.csv')\n",
    "    transformed_column_AMT_ANNUITY = df.groupby(['NAME_CONTRACT_TYPE', 'CODE_GENDER', 'FLAG_OWN_CAR', 'FLAG_OWN_REALTY', 'CNT_CHILDREN'])['AMT_ANNUITY'].transform('median')\n",
    "    filled_column = transformed_column_AMT_ANNUITY.fillna(transformed_column_AMT_ANNUITY.median())\n",
    "    df['AMT_ANNUITY'] = filled_column\n",
    "\n",
    "    transformed_column_AMT_GOODS_PRICE = df.groupby(['NAME_CONTRACT_TYPE', 'CODE_GENDER', 'FLAG_OWN_CAR', 'FLAG_OWN_REALTY', 'CNT_CHILDREN'])['AMT_GOODS_PRICE'].transform('median')\n",
    "    filled_column_AMT_GOODS_PRICE = transformed_column_AMT_GOODS_PRICE.fillna(transformed_column_AMT_GOODS_PRICE.median())\n",
    "    df['AMT_GOODS_PRICE'] = filled_column_AMT_GOODS_PRICE\n",
    "\n",
    "    transformed_column_CNT_FAM_MEMBERS = df.groupby(['NAME_CONTRACT_TYPE', 'CODE_GENDER', 'FLAG_OWN_CAR', 'FLAG_OWN_REALTY', 'CNT_CHILDREN'])['CNT_FAM_MEMBERS'].transform('median')\n",
    "    filled_column_CNT_FAM_MEMBERS = transformed_column_CNT_FAM_MEMBERS.fillna(transformed_column_CNT_FAM_MEMBERS.median())\n",
    "    df['CNT_FAM_MEMBERS'] = filled_column_CNT_FAM_MEMBERS\n",
    "\n",
    "    df.drop(columns=['OWN_CAR_AGE'], inplace=True)\n",
    "\n",
    "    df['NAME_TYPE_SUITE'] = df['NAME_TYPE_SUITE'].fillna('No_Ref')\n",
    "\n",
    "    df['OCCUPATION_TYPE'] = df['OCCUPATION_TYPE'].fillna('No_Ref')\n",
    "\n",
    "    \n",
    "if __name__ == \"__main__\":\n",
    "    null()\n",
    "\n"
   ]
  },
  {
   "cell_type": "code",
   "execution_count": null,
   "id": "9c0655b8",
   "metadata": {},
   "outputs": [],
   "source": []
  }
 ],
 "metadata": {
  "kernelspec": {
   "display_name": "Python 3 (ipykernel)",
   "language": "python",
   "name": "python3"
  },
  "language_info": {
   "codemirror_mode": {
    "name": "ipython",
    "version": 3
   },
   "file_extension": ".py",
   "mimetype": "text/x-python",
   "name": "python",
   "nbconvert_exporter": "python",
   "pygments_lexer": "ipython3",
   "version": "3.11.5"
  }
 },
 "nbformat": 4,
 "nbformat_minor": 5
}

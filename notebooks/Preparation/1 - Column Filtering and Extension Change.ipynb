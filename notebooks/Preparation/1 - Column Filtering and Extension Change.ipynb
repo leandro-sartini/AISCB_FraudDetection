{
 "cells": [
  {
   "cell_type": "code",
   "execution_count": 1,
   "id": "e41f9247",
   "metadata": {},
   "outputs": [],
   "source": [
    "import pandas as pd"
   ]
  },
  {
   "cell_type": "code",
   "execution_count": 2,
   "id": "0f82005c",
   "metadata": {},
   "outputs": [],
   "source": [
    "df = pd.read_csv('../../data/raw/application_data.csv')"
   ]
  },
  {
   "cell_type": "code",
   "execution_count": 3,
   "id": "6172065b",
   "metadata": {},
   "outputs": [],
   "source": [
    "df = df.iloc[:,:32].copy()"
   ]
  },
  {
   "cell_type": "code",
   "execution_count": 4,
   "id": "916051fd",
   "metadata": {},
   "outputs": [],
   "source": [
    "df.to_parquet('../../data/interim/fraud_detection.parquet')\n",
    "df.to_csv('../../data/interim/fraud_detection.csv')"
   ]
  }
 ],
 "metadata": {
  "kernelspec": {
   "display_name": "Python 3 (ipykernel)",
   "language": "python",
   "name": "python3"
  },
  "language_info": {
   "codemirror_mode": {
    "name": "ipython",
    "version": 3
   },
   "file_extension": ".py",
   "mimetype": "text/x-python",
   "name": "python",
   "nbconvert_exporter": "python",
   "pygments_lexer": "ipython3",
   "version": "3.11.5"
  }
 },
 "nbformat": 4,
 "nbformat_minor": 5
}

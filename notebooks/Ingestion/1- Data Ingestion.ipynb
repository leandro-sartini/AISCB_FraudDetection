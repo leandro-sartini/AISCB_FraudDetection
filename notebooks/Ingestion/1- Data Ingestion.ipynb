{
 "cells": [
  {
   "cell_type": "code",
   "execution_count": 1,
   "id": "87ee30a0",
   "metadata": {
    "scrolled": true
   },
   "outputs": [
    {
     "name": "stdout",
     "output_type": "stream",
     "text": [
      "Downloading credit-card.zip to C:\\Users\\leand\\OneDrive\\Área de Trabalho\\AISCB_FraudDetection\\notebooks\\Ingestion\n",
      "\n"
     ]
    },
    {
     "name": "stderr",
     "output_type": "stream",
     "text": [
      "\n",
      "  0%|          | 0.00/112M [00:00<?, ?B/s]\n",
      "  1%|          | 1.00M/112M [00:00<00:18, 6.25MB/s]\n",
      "  2%|1         | 2.00M/112M [00:00<00:14, 7.99MB/s]\n",
      "  4%|3         | 4.00M/112M [00:00<00:10, 10.4MB/s]\n",
      "  5%|5         | 6.00M/112M [00:00<00:10, 10.8MB/s]\n",
      "  7%|7         | 8.00M/112M [00:00<00:09, 11.4MB/s]\n",
      "  9%|8         | 10.0M/112M [00:00<00:09, 11.7MB/s]\n",
      " 11%|#         | 12.0M/112M [00:01<00:08, 11.8MB/s]\n",
      " 12%|#2        | 14.0M/112M [00:01<00:08, 12.0MB/s]\n",
      " 14%|#4        | 16.0M/112M [00:01<00:08, 12.1MB/s]\n",
      " 16%|#6        | 18.0M/112M [00:01<00:08, 12.1MB/s]\n",
      " 18%|#7        | 20.0M/112M [00:01<00:08, 12.1MB/s]\n",
      " 20%|#9        | 22.0M/112M [00:02<00:08, 11.8MB/s]\n",
      " 21%|##1       | 24.0M/112M [00:02<00:07, 11.9MB/s]\n",
      " 23%|##3       | 26.0M/112M [00:02<00:07, 12.0MB/s]\n",
      " 25%|##4       | 28.0M/112M [00:02<00:07, 11.7MB/s]\n",
      " 27%|##6       | 30.0M/112M [00:02<00:07, 11.9MB/s]\n",
      " 28%|##8       | 32.0M/112M [00:02<00:07, 12.0MB/s]\n",
      " 30%|###       | 34.0M/112M [00:03<00:07, 11.6MB/s]\n",
      " 32%|###2      | 36.0M/112M [00:03<00:06, 11.8MB/s]\n",
      " 34%|###3      | 38.0M/112M [00:03<00:06, 11.9MB/s]\n",
      " 36%|###5      | 40.0M/112M [00:03<00:06, 12.0MB/s]\n",
      " 37%|###7      | 42.0M/112M [00:03<00:06, 11.9MB/s]\n",
      " 39%|###9      | 44.0M/112M [00:03<00:06, 11.9MB/s]\n",
      " 41%|####      | 46.0M/112M [00:04<00:05, 12.0MB/s]\n",
      " 43%|####2     | 48.0M/112M [00:04<00:05, 12.0MB/s]\n",
      " 45%|####4     | 50.0M/112M [00:04<00:05, 12.1MB/s]\n",
      " 46%|####6     | 52.0M/112M [00:04<00:05, 12.1MB/s]\n",
      " 48%|####8     | 54.0M/112M [00:04<00:05, 12.1MB/s]\n",
      " 50%|####9     | 56.0M/112M [00:04<00:04, 12.1MB/s]\n",
      " 52%|#####1    | 58.0M/112M [00:05<00:06, 9.38MB/s]\n",
      " 53%|#####3    | 60.0M/112M [00:05<00:05, 10.0MB/s]\n",
      " 55%|#####5    | 62.0M/112M [00:05<00:05, 10.6MB/s]\n",
      " 57%|#####6    | 64.0M/112M [00:05<00:04, 11.0MB/s]\n",
      " 59%|#####8    | 66.0M/112M [00:06<00:04, 11.3MB/s]\n",
      " 61%|######    | 68.0M/112M [00:06<00:04, 11.6MB/s]\n",
      " 62%|######2   | 70.0M/112M [00:06<00:03, 11.7MB/s]\n",
      " 64%|######4   | 72.0M/112M [00:06<00:03, 11.9MB/s]\n",
      " 66%|######5   | 74.0M/112M [00:06<00:03, 12.0MB/s]\n",
      " 68%|######7   | 76.0M/112M [00:06<00:03, 11.8MB/s]\n",
      " 69%|######9   | 78.0M/112M [00:07<00:03, 12.0MB/s]\n",
      " 71%|#######1  | 80.0M/112M [00:07<00:02, 12.0MB/s]\n",
      " 73%|#######2  | 82.0M/112M [00:07<00:02, 12.1MB/s]\n",
      " 75%|#######4  | 84.0M/112M [00:07<00:02, 12.0MB/s]\n",
      " 77%|#######6  | 86.0M/112M [00:07<00:02, 12.2MB/s]\n",
      " 78%|#######8  | 88.0M/112M [00:07<00:02, 11.3MB/s]\n",
      " 80%|########  | 90.0M/112M [00:08<00:02, 11.6MB/s]\n",
      " 82%|########1 | 92.0M/112M [00:08<00:01, 11.8MB/s]\n",
      " 84%|########3 | 94.0M/112M [00:08<00:01, 11.9MB/s]\n",
      " 85%|########5 | 96.0M/112M [00:08<00:01, 11.6MB/s]\n",
      " 87%|########7 | 98.0M/112M [00:08<00:01, 11.7MB/s]\n",
      " 89%|########9 | 100M/112M [00:09<00:01, 11.9MB/s] \n",
      " 91%|######### | 102M/112M [00:09<00:00, 11.7MB/s]\n",
      " 93%|#########2| 104M/112M [00:09<00:00, 11.8MB/s]\n",
      " 94%|#########4| 106M/112M [00:09<00:00, 11.9MB/s]\n",
      " 96%|#########6| 108M/112M [00:09<00:00, 11.9MB/s]\n",
      " 98%|#########7| 110M/112M [00:09<00:00, 12.0MB/s]\n",
      "100%|#########9| 112M/112M [00:10<00:00, 12.1MB/s]\n",
      "100%|##########| 112M/112M [00:10<00:00, 11.7MB/s]\n"
     ]
    }
   ],
   "source": [
    "!kaggle datasets download -d mishra5001/credit-card"
   ]
  },
  {
   "cell_type": "code",
   "execution_count": 2,
   "id": "c2048c97",
   "metadata": {},
   "outputs": [],
   "source": [
    "import zipfile\n",
    "import os"
   ]
  },
  {
   "cell_type": "code",
   "execution_count": 3,
   "id": "41e3a441",
   "metadata": {},
   "outputs": [],
   "source": [
    "zip_path = 'credit-card.zip'\n",
    "extract_to = '../../data/raw' \n",
    "\n",
    "# Create a directory if it does not exist\n",
    "os.makedirs(extract_to, exist_ok=True)\n",
    "\n",
    "with zipfile.ZipFile(zip_path, 'r') as zip_ref:\n",
    "    zip_ref.extractall(extract_to)"
   ]
  },
  {
   "cell_type": "code",
   "execution_count": 4,
   "id": "8bddf0dd",
   "metadata": {},
   "outputs": [
    {
     "name": "stdout",
     "output_type": "stream",
     "text": [
      "The file credit-card.zip has been deleted.\n"
     ]
    }
   ],
   "source": [
    "zip_file_path = 'credit-card.zip'\n",
    "\n",
    "# Check if the file exists before attempting to delete it\n",
    "if os.path.exists(zip_file_path):\n",
    "    os.remove(zip_file_path)\n",
    "    print(f\"The file {zip_file_path} has been deleted.\")\n",
    "else:\n",
    "    print(f\"The file {zip_file_path} does not exist.\")"
   ]
  }
 ],
 "metadata": {
  "kernelspec": {
   "display_name": "Python 3 (ipykernel)",
   "language": "python",
   "name": "python3"
  },
  "language_info": {
   "codemirror_mode": {
    "name": "ipython",
    "version": 3
   },
   "file_extension": ".py",
   "mimetype": "text/x-python",
   "name": "python",
   "nbconvert_exporter": "python",
   "pygments_lexer": "ipython3",
   "version": "3.11.5"
  }
 },
 "nbformat": 4,
 "nbformat_minor": 5
}
